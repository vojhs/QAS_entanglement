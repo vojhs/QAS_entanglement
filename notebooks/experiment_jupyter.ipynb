{
 "cells": [
  {
   "cell_type": "markdown",
   "metadata": {},
   "source": [
    "# Install and import packages\n",
    "--------"
   ]
  },
  {
   "cell_type": "code",
   "execution_count": null,
   "metadata": {},
   "outputs": [],
   "source": [
    "#import gym\n",
    "import gymnasium as gym\n",
    "import torch.optim as optim\n",
    "from stable_baselines3 import A2C, PPO\n",
    "from stable_baselines3.common.evaluation import evaluate_policy\n",
    "import numpy as np\n",
    "import matplotlib.pyplot as plt\n",
    "from stable_baselines3.common.callbacks import BaseCallback\n",
    "\n",
    "from gymnasium_robotics.core import GoalEnv\n",
    "\n",
    "#from stable_baselines3 import HerReplayBuffer\n",
    "\n",
    "import qas_gym\n",
    "from qas_gym import envs\n",
    "import sys\n",
    "import os"
   ]
  },
  {
   "cell_type": "markdown",
   "metadata": {},
   "source": [
    "# Basic Environment\n",
    "------\n",
    "Create your gym environment :"
   ]
  },
  {
   "cell_type": "code",
   "execution_count": null,
   "metadata": {
    "ExecuteTime": {
     "start_time": "2025-09-19T06:49:50.830792Z"
    }
   },
   "outputs": [],
   "source": [
    "# Parameters \n",
    "env_name = 'BasicNQubit-v0'#'NoisyThreeQubit-v0'#'BasicThreeQubit-v0'\n",
    "#gym.wrappers.EnvCompatibility(env_name)\n",
    "fidelity_threshold = 0.95\n",
    "reward_penalty = 0.01\n",
    "max_timesteps = 20#20\n",
    "#target = (1/(2*np.sqrt(2.))) * np.asarray([1 + 0.j, 1 +0.j, 1 +0.j, -1+0.j, 1+0.j, 1+0.j, -1+0.j, 1+0.j])\n",
    "target = np.zeros(2**4, dtype=complex)\n",
    "target[0] = 1. / np.sqrt(2) + 0.j\n",
    "target[-1] = 1. / np.sqrt(2) + 0.j\n",
    "\n",
    "#target = np.zeros(2**3, dtype=complex)\n",
    "#target[4] = 1. / np.sqrt(3) + 0.j\n",
    "#target[6] = 1. / np.sqrt(3) + 0.j\n",
    "#target[7] = 1. / np.sqrt(3) + 0.j\n",
    "#target = state_vector\n",
    "#seed\n",
    "seed=1\n",
    "\n",
    "# Environment\n",
    "env = gym.make(env_name,\n",
    "               target=target,\n",
    "               fidelity_threshold=fidelity_threshold,\n",
    "               reward_penalty=reward_penalty,\n",
    "               max_timesteps=max_timesteps#,error_single=0.01, error_multi=0.01,error_rate=0.\n",
    "              )\n",
    "#env.observation_space.shape\n",
    "#gym.wrappers.EnvCompatibility(env_name)\n",
    "observation, info = env.reset(seed=seed)\n",
    "print(env.action_space) \n",
    "print(env.observation_space)\n"
   ]
  },
  {
   "cell_type": "markdown",
   "metadata": {},
   "source": [
    "Diplay the action gates : "
   ]
  },
  {
   "cell_type": "code",
   "execution_count": null,
   "metadata": {
    "ExecuteTime": {
     "start_time": "2025-09-19T06:49:50.834782Z"
    }
   },
   "outputs": [],
   "source": [
    "for idx, gate in enumerate(env.unwrapped.action_gates):\n",
    "    print('Action({:02d}) --> {}'.format(idx, gate))"
   ]
  },
  {
   "cell_type": "markdown",
   "metadata": {},
   "source": [
    "Diplay the state observables : "
   ]
  },
  {
   "cell_type": "code",
   "execution_count": null,
   "metadata": {},
   "outputs": [],
   "source": [
    "for idx, observable in enumerate(env.unwrapped.state_observables):\n",
    "    print('State({:02d}) --> {}'.format(idx, observable))"
   ]
  },
  {
   "cell_type": "markdown",
   "metadata": {},
   "source": [
    "# A2C Agent\n",
    "------"
   ]
  },
  {
   "cell_type": "code",
   "execution_count": null,
   "metadata": {},
   "outputs": [],
   "source": [
    "# Parameters\n",
    "gamma = 0.98\n",
    "learning_rate = 0.0001\n",
    "policy_kwargs = dict(optimizer_class=optim.Adam)\n",
    "\n",
    "\n",
    "# Agent\n",
    "a2c_model = A2C(\"MultiInputPolicy\",\n",
    "                env,\n",
    "                gamma=gamma,\n",
    "                learning_rate=learning_rate,\n",
    "                policy_kwargs=policy_kwargs,\n",
    "                tensorboard_log='logs/')\n"
   ]
  },
  {
   "cell_type": "code",
   "execution_count": null,
   "metadata": {},
   "outputs": [],
   "source": [
    "a2c_model.learn(total_timesteps=550000, progress_bar=True)"
   ]
  },
  {
   "cell_type": "code",
   "execution_count": null,
   "metadata": {},
   "outputs": [],
   "source": [
    "import time\n",
    "from IPython.display import clear_output\n",
    "state = env.reset()\n",
    "done = False\n",
    "while not done:\n",
    "    action,_states = a2c_model.predict(state)\n",
    "    state, reward, done, info = env.step(action)\n",
    "    clear_output(wait=True)\n",
    "    env.render()\n",
    "    time.sleep(1)\n",
    "print(info)"
   ]
  },
  {
   "cell_type": "code",
   "outputs": [],
   "source": [
    "a2c_model.save(\"a2c_qas_v0\")"
   ],
   "metadata": {
    "collapsed": false
   },
   "execution_count": null
  },
  {
   "cell_type": "markdown",
   "metadata": {},
   "source": [
    "# PPO Model\n",
    "------"
   ]
  },
  {
   "cell_type": "code",
   "execution_count": null,
   "metadata": {
    "ExecuteTime": {
     "end_time": "2025-09-19T06:49:51.719562Z",
     "start_time": "2025-09-19T06:49:51.719562Z"
    }
   },
   "outputs": [],
   "source": [
    "# Parameters\n",
    "gamma = 0.97#0.97\n",
    "n_epochs = 4\n",
    "clip_range = 0.2\n",
    "learning_rate = 0.0004\n",
    "policy_kwargs = dict(optimizer_class=optim.Adam)\n",
    "\n",
    "\n",
    "# Agent\n",
    "ppo_model = PPO(\"MultiInputPolicy\",\n",
    "                env,\n",
    "                verbose=1,\n",
    "                #batch_size=128,\n",
    "                seed=seed,\n",
    "                gamma=gamma,\n",
    "                n_epochs=n_epochs,\n",
    "                clip_range=clip_range,\n",
    "                learning_rate=learning_rate,\n",
    "                policy_kwargs=policy_kwargs,\n",
    "                tensorboard_log='logs/')"
   ]
  },
  {
   "cell_type": "code",
   "execution_count": null,
   "metadata": {
    "scrolled": true
   },
   "outputs": [],
   "source": [
    "ppo_model.learn(total_timesteps=180000, progress_bar=True)#180000 callback=callback"
   ]
  },
  {
   "cell_type": "code",
   "execution_count": null,
   "metadata": {},
   "outputs": [],
   "source": [
    "import time\n",
    "from IPython.display import clear_output\n",
    "import gymnasium as gym\n",
    "\n",
    "# 定义\n",
    "#env = gym.make(\"YourEnv-v0\", ...)\n",
    "#from stable_baselines3 import PPO\n",
    "#ppo_model = PPO.load(\"path/to/your/ppo_model\")\n",
    "\n",
    "state, info = env.reset()\n",
    "print(\"Initial state:\",state) # Debug: Print initial state\n",
    "\n",
    "done = False\n",
    "truncated = False\n",
    "entanglement_list_pre = []\n",
    "fidelity_list_pre = []\n",
    "\n",
    "while not done and not truncated:\n",
    "    action, _states = ppo_model.predict(state, deterministic=False) # 非确定性的策略，以便进行探索\n",
    "    next_state, reward, done, truncated, info = env.step(action)\n",
    "\n",
    "    #entanglement_list_pre.append(env.unwrapped.entangle_list)\n",
    "    #fidelity_list_pre.append(env.unwrapped.fidelity_list)\n",
    "    \n",
    "    clear_output(wait=True)\n",
    "    env.render()\n",
    "    time.sleep(1)\n",
    "\n",
    "    state = next_state   # Correctly update state\n",
    "    print(\"Current state:\", state) # Debug: Print current state\n",
    "\n",
    "print(info)"
   ]
  },
  {
   "cell_type": "code",
   "execution_count": null,
   "metadata": {},
   "outputs": [],
   "source": [
    "plt.figure(figsize=(12, 6))\n",
    "\n",
    "plt.subplot(1, 2, 1)\n",
    "plt.plot(env.fidelity_values)\n",
    "plt.title(\"Fidelity per Episode\")\n",
    "plt.xlabel(\"Rollout\")\n",
    "plt.ylabel(\"Fidelity\")\n",
    "\n",
    "plt.subplot(1, 2, 2)\n",
    "plt.plot(env.concurrence_values)\n",
    "plt.title(\"entanglement per Episode\")\n",
    "plt.xlabel(\"Rollout\")\n",
    "plt.ylabel(\"Entanglement\")\n",
    "\n",
    "plt.tight_layout()\n",
    "plt.show()"
   ]
  },
  {
   "cell_type": "code",
   "execution_count": null,
   "metadata": {},
   "outputs": [],
   "source": [
    "ppo_model.save(\"ppo_qas_cluster_step180000_New_concurrence_gamma0.97lr0.0004_seed=1\")"
   ]
  },
  {
   "cell_type": "code",
   "execution_count": null,
   "metadata": {},
   "outputs": [],
   "source": [
    "model = PPO.load(\"model_path\", env=env)\n",
    "\n",
    "# 继续训练\n",
    "model.learn(total_timesteps=10000)"
   ]
  },
  {
   "cell_type": "code",
   "execution_count": null,
   "metadata": {},
   "outputs": [],
   "source": [
    "ppo_model.learn(total_timesteps=20000, reset_num_timesteps=False)"
   ]
  },
  {
   "cell_type": "markdown",
   "metadata": {},
   "source": [
    "# Results\n",
    "------"
   ]
  },
  {
   "cell_type": "code",
   "execution_count": null,
   "metadata": {
    "ExecuteTime": {
     "start_time": "2025-09-19T06:49:53.919294Z"
    }
   },
   "outputs": [],
   "source": [
    "%load_ext tensorboard\n",
    "%tensorboard --logdir=logs/"
   ]
  },
  {
   "cell_type": "code",
   "execution_count": 25,
   "metadata": {
    "ExecuteTime": {
     "end_time": "2025-09-19T06:49:56.133207Z",
     "start_time": "2025-09-19T06:49:54.017033Z"
    }
   },
   "outputs": [],
   "source": [
    "import matplotlib.pyplot as plt\n",
    "%matplotlib inline"
   ]
  },
  {
   "cell_type": "code",
   "execution_count": null,
   "metadata": {},
   "outputs": [],
   "source": [
    "env.plot_entangle_list()\n",
    "env.plot_fidelity_list()"
   ]
  },
  {
   "cell_type": "code",
   "execution_count": null,
   "metadata": {
    "ExecuteTime": {
     "end_time": "2025-09-19T06:49:56.203028Z",
     "start_time": "2025-09-19T06:49:56.202056Z"
    }
   },
   "outputs": [],
   "source": [
    "import numpy as np\n",
    "import os"
   ]
  },
  {
   "cell_type": "markdown",
   "metadata": {},
   "source": [
    "# Results\n",
    "------"
   ]
  },
  {
   "cell_type": "code",
   "execution_count": null,
   "metadata": {
    "ExecuteTime": {
     "end_time": "2025-09-19T06:49:56.209008Z",
     "start_time": "2025-09-19T06:49:56.208010Z"
    }
   },
   "outputs": [],
   "source": [
    "save_dir = './entangle_log'  \n",
    "if not os.path.exists(save_dir):\n",
    "    os.makedirs(save_dir) \n",
    "\n",
    "# 存储\n",
    "file_path = os.path.join(save_dir, 'entangle_list_gam0.97_lr0.0004_cluster_no_entangle_seed=2time0.7_fin.npy')  # 创建路径\n",
    "np.save(file_path, env.concurrence_values)\n",
    "print(f\"entangle_list has been saved to '{file_path}'.\")\n",
    "\n",
    "# 读取\n",
    "#loaded_entangle_list = np.load(file_path)\n",
    "#print(\"Loaded entangle_list:\", loaded_entangle_list)"
   ]
  },
  {
   "cell_type": "code",
   "execution_count": null,
   "metadata": {
    "ExecuteTime": {
     "end_time": "2025-09-19T06:49:56.212998Z",
     "start_time": "2025-09-19T06:49:56.212998Z"
    }
   },
   "outputs": [],
   "source": [
    "save_dir = './fidelity_log'  \n",
    "if not os.path.exists(save_dir):\n",
    "    os.makedirs(save_dir) \n",
    "\n",
    "# 存储\n",
    "file_path = os.path.join(save_dir, 'fidelity_list_gam0.97_lr0.0004_cluster_no_entangle_seed=2time0.7_fin.npy')  # 创建路径\n",
    "np.save(file_path, env.fidelity_values)\n",
    "print(f\"entangle_list has been saved to '{file_path}'.\")\n",
    "\n",
    "# 读取\n",
    "#loaded_entangle_list = np.load(file_path)\n",
    "#print(\"Loaded entangle_list:\", loaded_entangle_list)"
   ]
  },
  {
   "cell_type": "code",
   "execution_count": null,
   "metadata": {
    "ExecuteTime": {
     "start_time": "2025-09-19T06:49:56.233939Z"
    }
   },
   "outputs": [],
   "source": [
    "%load_ext tensorboard\n",
    "%tensorboard --logdir=logs/"
   ]
  }
 ],
 "metadata": {
  "kernelspec": {
   "name": "python3",
   "language": "python",
   "display_name": "Python 3"
  },
  "language_info": {
   "codemirror_mode": {
    "name": "ipython",
    "version": 3
   },
   "file_extension": ".py",
   "mimetype": "text/x-python",
   "name": "python",
   "nbconvert_exporter": "python",
   "pygments_lexer": "ipython3",
   "version": "3.11.9"
  }
 },
 "nbformat": 4,
 "nbformat_minor": 4
}
